{
 "cells": [
  {
   "attachments": {},
   "cell_type": "markdown",
   "metadata": {},
   "source": [
    "## `Downloading Data` "
   ]
  },
  {
   "attachments": {},
   "cell_type": "markdown",
   "metadata": {},
   "source": [
    "Import pustaka python"
   ]
  },
  {
   "cell_type": "code",
   "execution_count": 8,
   "metadata": {},
   "outputs": [],
   "source": [
    "import os\n",
    "import wget\n",
    "from zipfile import ZipFile"
   ]
  },
  {
   "attachments": {},
   "cell_type": "markdown",
   "metadata": {},
   "source": [
    "Setting url dan directory tempat file akan di simpan"
   ]
  },
  {
   "cell_type": "code",
   "execution_count": 9,
   "metadata": {},
   "outputs": [],
   "source": [
    "input_path = 'https://divvy-tripdata.s3.amazonaws.com/'\n",
    "output_path = '../data/raw/'"
   ]
  },
  {
   "attachments": {},
   "cell_type": "markdown",
   "metadata": {},
   "source": [
    "Download data yang dibutuhkan. Studi kasus ini mengasumsikan perusahaan hanya ingin analisis data pada kuartal pertama (1 Januari - 31 Maret) tahun 2023."
   ]
  },
  {
   "cell_type": "code",
   "execution_count": 1,
   "metadata": {},
   "outputs": [],
   "source": [
    "for month in range(1, 4):\n",
    "    if month < 10:\n",
    "        name = f'20230{month}-divvy-tripdata'\n",
    "    else:\n",
    "        name = f'2023{month}-divvy-tripdata'\n",
    "\n",
    "    if os.path.isfile(f'{input_path}{name}.zip') != True:\n",
    "        try: \n",
    "            # downloading data\n",
    "            wget.download(url=f'{input_path}{name}.zip', out=f'{output_path}{name}.zip')\n",
    "\n",
    "            # creating a zip object\n",
    "            with ZipFile(f'{output_path}{name}.zip', 'r') as zobject:\n",
    "\n",
    "                # extracting specific file in the zip\n",
    "                zobject.extract(f\"{name}.csv\", path=output_path)\n",
    "                \n",
    "            # close zip\n",
    "            zobject.close()\n",
    "\n",
    "        except:\n",
    "            continue"
   ]
  }
 ],
 "metadata": {
  "kernelspec": {
   "display_name": "Python 3",
   "language": "python",
   "name": "python3"
  },
  "language_info": {
   "codemirror_mode": {
    "name": "ipython",
    "version": 3
   },
   "file_extension": ".py",
   "mimetype": "text/x-python",
   "name": "python",
   "nbconvert_exporter": "python",
   "pygments_lexer": "ipython3",
   "version": "3.9.16"
  },
  "orig_nbformat": 4
 },
 "nbformat": 4,
 "nbformat_minor": 2
}
